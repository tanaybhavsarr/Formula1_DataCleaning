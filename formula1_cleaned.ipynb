{
 "cells": [
  {
   "cell_type": "code",
   "execution_count": null,
   "id": "c672a7dd",
   "metadata": {},
   "outputs": [],
   "source": [
    "import numpy as np \n",
    "import pandas as pd "
   ]
  },
  {
   "cell_type": "code",
   "execution_count": null,
   "id": "549de529",
   "metadata": {},
   "outputs": [],
   "source": [
    "# taking input of the data\n",
    "results = pd.read_csv('results.csv', names = ['resultId', 'raceId', 'driverId','constructorId','number', 'grid', 'position ', 'positionText', 'positionOrder', 'points','laps','time','milliseconds','fastestLap','rank','fastestLapTime','fastestLapSpeed', 'statusId '])\n",
    "races = pd.read_csv('races.csv', names = ['raceId', 'year', 'round', 'circuitId', 'name', 'date', 'time', 'url', 'fp1_date', 'fp1_time', 'fp2_date', 'fp2_time', 'fp3_date','fp3_time', 'quali_date', 'quali_time', 'sprint_date','sprint_time'])\n",
    "constructors_data =  pd.read_csv('constructors.csv', names = ['constructorId' , 'constructorRef', 'name' , 'nationality', 'url'])\n",
    "drivers_data =  pd.read_csv('drivers.csv', names = ['driverId', 'driverRef', 'number', 'code', 'forename', 'surname', 'dob', 'nationality', 'url'])\n",
    "circuits_data =  pd.read_csv('circuits.csv', names = ['circuitId', 'circuitRef', 'name', 'location', 'country', 'lat' , 'lng', 'alt', 'url'] )\n",
    "constructor_results =  pd.read_csv('constructor_results.csv', names = ['constructorResultsId', 'raceId', 'constructorId', 'points', 'status'] )\n",
    "                                   "
   ]
  },
  {
   "cell_type": "code",
   "execution_count": null,
   "id": "b75db137",
   "metadata": {},
   "outputs": [],
   "source": [
    "# merging columns \n",
    "drivers_data['driver_name'] =  drivers_data['forename'] + \" \" +drivers_data['surname']\n",
    "drivers_data.drop(['forename', 'surname'], axis = 1, inplace = True)"
   ]
  },
  {
   "cell_type": "code",
   "execution_count": null,
   "id": "0314bbce",
   "metadata": {},
   "outputs": [],
   "source": [
    "# merging the dataset\n",
    "df = pd.merge (results , races [[ 'raceId', 'year', 'round', 'circuitId', 'name']] , on = 'raceId', how ='left')\n",
    "df = pd.merge (df , constructors_data[[ 'constructorId', 'name', 'nationality']], on = 'constructorId' , how = 'left')\n",
    "df = pd.merge (df , drivers_data [['driverId', 'driver_name', 'nationality']], on = 'driverId' , how = 'left')\n",
    "df = pd.merge (df , circuits_data [['circuitId', 'name', 'location' , 'alt']], on ='circuitId' , how ='left')\n"
   ]
  },
  {
   "cell_type": "code",
   "execution_count": null,
   "id": "81098050",
   "metadata": {},
   "outputs": [],
   "source": [
    "# droping unneccessary columns \n",
    "df.drop([ 'driverId' ,'constructorId', 'number', 'position ', 'positionText', 'fastestLap', 'statusId ' , 'circuitId'], axis =1, inplace = True )"
   ]
  },
  {
   "cell_type": "code",
   "execution_count": null,
   "id": "5a1522cc",
   "metadata": {},
   "outputs": [],
   "source": [
    "# droping unneccessary columns \n",
    "df.drop(['resultId'], axis =1, inplace = True )"
   ]
  },
  {
   "cell_type": "code",
   "execution_count": null,
   "id": "8cde6982",
   "metadata": {},
   "outputs": [],
   "source": [
    "# droping first row\n",
    "df.drop(df.index[0] , inplace = True)"
   ]
  },
  {
   "cell_type": "code",
   "execution_count": null,
   "id": "61f36c23",
   "metadata": {},
   "outputs": [],
   "source": [
    "# renaming the columns\n",
    "df=df.rename (columns = {'rank' : 'fastestLapRank' , 'name_x' : 'grandPrix', 'name_y' : 'constructor_name', 'nationality_x':'constructorNationality', 'nationality_y':'driverNationality','name':'circuitName','location':'circuitLocation','alt':'locationAlt'})"
   ]
  },
  {
   "cell_type": "code",
   "execution_count": null,
   "id": "637fe818",
   "metadata": {},
   "outputs": [],
   "source": [
    "# renaming the columns\n",
    "df=df.rename (columns = {'year':'season', 'positionOrder':'finalPosition'})"
   ]
  },
  {
   "cell_type": "code",
   "execution_count": null,
   "id": "57c9b726",
   "metadata": {},
   "outputs": [],
   "source": [
    "#repositioning columns\n",
    "df = df[['season', 'round', 'grandPrix' , 'circuitName' , 'circuitLocation' , 'locationAlt','driver_name', 'driverNationality', 'constructor_name', 'constructorNationality' ,'finalPosition' , 'grid' , 'points', 'laps' , 'time' , 'milliseconds', 'fastestLapRank' ,'fastestLapTime', 'fastestLapSpeed' , 'raceId' ]]"
   ]
  },
  {
   "cell_type": "code",
   "execution_count": null,
   "id": "78753351",
   "metadata": {},
   "outputs": [],
   "source": [
    "#replacing null values\n",
    "df.time.replace('\\\\N', np.nan, inplace =True)\n",
    "df.milliseconds.replace('\\\\N', np.nan, inplace =True)\n",
    "df.fastestLapRank.replace('\\\\N', np.nan, inplace =True)\n",
    "df.fastestLapTime.replace('\\\\N', np.nan, inplace =True)\n",
    "df.fastestLapSpeed.replace('\\\\N', np.nan, inplace =True)\n",
    "df['locationAlt'].replace('\\\\N', np.nan, inplace=True)"
   ]
  },
  {
   "cell_type": "code",
   "execution_count": null,
   "id": "43000aa2",
   "metadata": {},
   "outputs": [],
   "source": [
    "#changing datatypes\n",
    "df.fastestLapRank = df.fastestLapRank.astype(float) \n",
    "df.fastestLapSpeed = df.fastestLapSpeed.astype(float)\n",
    "df.milliseconds = df.milliseconds.astype(float)\n",
    "df.finalPosition = df.finalPosition.astype(int)\n",
    "df['season'] = df['season'].astype(int)\n",
    "df['round'] = df['round'].astype(int)\n",
    "df['locationAlt'] = df['locationAlt'].astype(float)\n",
    "df['grid'] = df['grid'].astype(int)\n",
    "df['points'] = df['points'].astype(float)"
   ]
  },
  {
   "cell_type": "code",
   "execution_count": null,
   "id": "d4fba46f",
   "metadata": {},
   "outputs": [],
   "source": [
    "#sorting values\n",
    "df = df.sort_values(by = ['season', 'round', 'finalPosition'], ascending = [False , True , True])"
   ]
  },
  {
   "cell_type": "code",
   "execution_count": null,
   "id": "2a499e12",
   "metadata": {},
   "outputs": [],
   "source": [
    "#resetting index\n",
    "df.reset_index(drop = True , inplace = True)"
   ]
  },
  {
   "cell_type": "code",
   "execution_count": null,
   "id": "efdc4ba9",
   "metadata": {},
   "outputs": [],
   "source": [
    "# dataframe information\n",
    "df.info()\n",
    "df.dtypes"
   ]
  },
  {
   "cell_type": "code",
   "execution_count": null,
   "id": "177ddf50",
   "metadata": {},
   "outputs": [],
   "source": [
    "df.head(60)"
   ]
  },
  {
   "cell_type": "code",
   "execution_count": null,
   "id": "1c2def55",
   "metadata": {},
   "outputs": [],
   "source": [
    "df.to_csv(r\"C:\\Users\\Tanay Bhavsar\\Desktop\\formula 1\\formula1_cleaned.csv\", index=False , header=True)"
   ]
  }
 ],
 "metadata": {
  "kernelspec": {
   "display_name": "Python 3 (ipykernel)",
   "language": "python",
   "name": "python3"
  },
  "language_info": {
   "codemirror_mode": {
    "name": "ipython",
    "version": 3
   },
   "file_extension": ".py",
   "mimetype": "text/x-python",
   "name": "python",
   "nbconvert_exporter": "python",
   "pygments_lexer": "ipython3",
   "version": "3.11.3"
  }
 },
 "nbformat": 4,
 "nbformat_minor": 5
}
